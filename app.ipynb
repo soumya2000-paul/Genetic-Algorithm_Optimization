{
 "cells": [
  {
   "cell_type": "code",
   "execution_count": 121,
   "metadata": {},
   "outputs": [],
   "source": [
    "import numpy as np\n",
    "import matplotlib.pyplot as plt\n",
    "from ypstruct import structure\n",
    "import random\n",
    "import ga"
   ]
  },
  {
   "cell_type": "code",
   "execution_count": 122,
   "metadata": {},
   "outputs": [],
   "source": [
    "def sphere(x):\n",
    "    return -(sum(x**.5))"
   ]
  },
  {
   "cell_type": "code",
   "execution_count": 123,
   "metadata": {},
   "outputs": [],
   "source": [
    "# problem definetion\n",
    "problem = structure()\n",
    "problem.costfunc = sphere\n",
    "problem.nvar = 3\n",
    "problem.varmin = 0\n",
    "problem.varmax = random.randint(1,30)"
   ]
  },
  {
   "cell_type": "code",
   "execution_count": 124,
   "metadata": {},
   "outputs": [],
   "source": [
    "# ga parameters\n",
    "params = structure()\n",
    "params.maxit = 100\n",
    "params.npop = 30\n",
    "params.pc = 1\n",
    "params.gamma = 0.1\n",
    "params.mu = 0.2\n",
    "params.sigma = 0.1\n"
   ]
  },
  {
   "cell_type": "code",
   "execution_count": 125,
   "metadata": {},
   "outputs": [
    {
     "name": "stdout",
     "output_type": "stream",
     "text": [
      "Iteration 0: Best Cost = -14.98060924142797\n",
      "Iteration 1: Best Cost = -14.98060924142797\n",
      "Iteration 2: Best Cost = -14.98060924142797\n",
      "Iteration 3: Best Cost = -14.98060924142797\n",
      "Iteration 4: Best Cost = -14.98060924142797\n",
      "Iteration 5: Best Cost = -14.98060924142797\n",
      "Iteration 6: Best Cost = -14.98060924142797\n",
      "Iteration 7: Best Cost = -14.98060924142797\n",
      "Iteration 8: Best Cost = -14.98060924142797\n",
      "Iteration 9: Best Cost = -14.98060924142797\n",
      "Iteration 10: Best Cost = -14.98060924142797\n",
      "Iteration 11: Best Cost = -15.150503102122538\n",
      "Iteration 12: Best Cost = -15.150503102122538\n",
      "Iteration 13: Best Cost = -15.150503102122538\n",
      "Iteration 14: Best Cost = -15.150503102122538\n",
      "Iteration 15: Best Cost = -15.150503102122538\n",
      "Iteration 16: Best Cost = -15.150503102122538\n",
      "Iteration 17: Best Cost = -15.150503102122538\n",
      "Iteration 18: Best Cost = -15.150503102122538\n",
      "Iteration 19: Best Cost = -15.150503102122538\n",
      "Iteration 20: Best Cost = -15.150503102122538\n",
      "Iteration 21: Best Cost = -15.150503102122538\n",
      "Iteration 22: Best Cost = -15.150503102122538\n",
      "Iteration 23: Best Cost = -15.150503102122538\n",
      "Iteration 24: Best Cost = -15.150503102122538\n",
      "Iteration 25: Best Cost = -15.150503102122538\n",
      "Iteration 26: Best Cost = -15.150503102122538\n",
      "Iteration 27: Best Cost = -15.150503102122538\n",
      "Iteration 28: Best Cost = -15.150503102122538\n",
      "Iteration 29: Best Cost = -15.150503102122538\n",
      "Iteration 30: Best Cost = -15.150503102122538\n",
      "Iteration 31: Best Cost = -15.449949708083253\n",
      "Iteration 32: Best Cost = -15.449949708083253\n",
      "Iteration 33: Best Cost = -15.449949708083253\n",
      "Iteration 34: Best Cost = -15.449949708083253\n",
      "Iteration 35: Best Cost = -15.449949708083253\n",
      "Iteration 36: Best Cost = -15.449949708083253\n",
      "Iteration 37: Best Cost = -15.449949708083253\n",
      "Iteration 38: Best Cost = -15.449949708083253\n",
      "Iteration 39: Best Cost = -15.449949708083253\n",
      "Iteration 40: Best Cost = -15.449949708083253\n",
      "Iteration 41: Best Cost = -15.449949708083253\n",
      "Iteration 42: Best Cost = -15.449949708083253\n",
      "Iteration 43: Best Cost = -15.449949708083253\n",
      "Iteration 44: Best Cost = -15.449949708083253\n",
      "Iteration 45: Best Cost = -15.449949708083253\n",
      "Iteration 46: Best Cost = -15.449949708083253\n",
      "Iteration 47: Best Cost = -15.449949708083253\n",
      "Iteration 48: Best Cost = -15.449949708083253\n",
      "Iteration 49: Best Cost = -15.449949708083253\n",
      "Iteration 50: Best Cost = -15.449949708083253\n",
      "Iteration 51: Best Cost = -15.449949708083253\n",
      "Iteration 52: Best Cost = -15.449949708083253\n",
      "Iteration 53: Best Cost = -15.449949708083253\n",
      "Iteration 54: Best Cost = -15.449949708083253\n",
      "Iteration 55: Best Cost = -15.449949708083253\n",
      "Iteration 56: Best Cost = -15.449949708083253\n",
      "Iteration 57: Best Cost = -15.449949708083253\n",
      "Iteration 58: Best Cost = -15.449949708083253\n",
      "Iteration 59: Best Cost = -15.449949708083253\n",
      "Iteration 60: Best Cost = -15.449949708083253\n",
      "Iteration 61: Best Cost = -15.449949708083253\n",
      "Iteration 62: Best Cost = -15.449949708083253\n",
      "Iteration 63: Best Cost = -15.449949708083253\n",
      "Iteration 64: Best Cost = -15.449949708083253\n",
      "Iteration 65: Best Cost = -15.449949708083253\n",
      "Iteration 66: Best Cost = -15.449949708083253\n",
      "Iteration 67: Best Cost = -15.449949708083253\n",
      "Iteration 68: Best Cost = -15.449949708083253\n",
      "Iteration 69: Best Cost = -15.449949708083253\n",
      "Iteration 70: Best Cost = -15.449949708083253\n",
      "Iteration 71: Best Cost = -15.449949708083253\n",
      "Iteration 72: Best Cost = -15.449949708083253\n",
      "Iteration 73: Best Cost = -15.449949708083253\n",
      "Iteration 74: Best Cost = -15.449949708083253\n",
      "Iteration 75: Best Cost = -15.449949708083253\n",
      "Iteration 76: Best Cost = -15.449949708083253\n",
      "Iteration 77: Best Cost = -15.449949708083253\n",
      "Iteration 78: Best Cost = -15.449949708083253\n",
      "Iteration 79: Best Cost = -15.449949708083253\n",
      "Iteration 80: Best Cost = -15.449949708083253\n",
      "Iteration 81: Best Cost = -15.449949708083253\n",
      "Iteration 82: Best Cost = -15.449949708083253\n",
      "Iteration 83: Best Cost = -15.449949708083253\n",
      "Iteration 84: Best Cost = -15.449949708083253\n",
      "Iteration 85: Best Cost = -15.449949708083253\n",
      "Iteration 86: Best Cost = -15.449949708083253\n",
      "Iteration 87: Best Cost = -15.449949708083253\n",
      "Iteration 88: Best Cost = -15.449949708083253\n",
      "Iteration 89: Best Cost = -15.449949708083253\n",
      "Iteration 90: Best Cost = -15.449949708083253\n",
      "Iteration 91: Best Cost = -15.449949708083253\n",
      "Iteration 92: Best Cost = -15.449949708083253\n",
      "Iteration 93: Best Cost = -15.449949708083253\n",
      "Iteration 94: Best Cost = -15.449949708083253\n",
      "Iteration 95: Best Cost = -15.449949708083253\n",
      "Iteration 96: Best Cost = -15.449949708083253\n",
      "Iteration 97: Best Cost = -15.449949708083253\n",
      "Iteration 98: Best Cost = -15.449949708083253\n",
      "Iteration 99: Best Cost = -15.449949708083253\n"
     ]
    }
   ],
   "source": [
    "# run ga\n",
    "out = ga.run(problem,params)"
   ]
  },
  {
   "cell_type": "code",
   "execution_count": 131,
   "metadata": {},
   "outputs": [
    {
     "data": {
      "text/plain": [
       "Text(0, 0.5, 'Best Cost')"
      ]
     },
     "execution_count": 131,
     "metadata": {},
     "output_type": "execute_result"
    },
    {
     "data": {
      "image/png": "[encoded data removed]",
      "text/plain": [
       "<Figure size 432x288 with 1 Axes>"
      ]
     },
     "metadata": {
      "needs_background": "light"
     },
     "output_type": "display_data"
    }
   ],
   "source": [
    "# results\n",
    "plt.plot(out.bestcost)\n",
    "plt.xlabel('Iteration')\n",
    "plt.ylabel('Best Cost')"
   ]
  }
 ],
 "metadata": {
  "interpreter": {
   "hash": "df3349e789859f0ba8ed8c2f69616fdbbccfe3544bde8b15a378092838144dba"
  },
  "kernelspec": {
   "display_name": "Python 3.8.8 64-bit ('base': conda)",
   "language": "python",
   "name": "python3"
  },
  "language_info": {
   "codemirror_mode": {
    "name": "ipython",
    "version": 3
   },
   "file_extension": ".py",
   "mimetype": "text/x-python",
   "name": "python",
   "nbconvert_exporter": "python",
   "pygments_lexer": "ipython3",
   "version": "3.8.8"
  },
  "orig_nbformat": 4
 },
 "nbformat": 4,
 "nbformat_minor": 2
}
