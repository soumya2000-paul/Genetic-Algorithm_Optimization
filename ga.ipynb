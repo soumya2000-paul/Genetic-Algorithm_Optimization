{
 "cells": [
  {
   "cell_type": "code",
   "execution_count": 93,
   "metadata": {},
   "outputs": [],
   "source": [
    "from ypstruct import structure\n",
    "import numpy as np"
   ]
  },
  {
   "cell_type": "code",
   "execution_count": 94,
   "metadata": {},
   "outputs": [],
   "source": [
    "def run(problem,params):\n",
    "    \n",
    "    #  Problem info\n",
    "    costfunc = problem.costfunc\n",
    "    nvar = problem.nvar\n",
    "    varmin = problem.varmin\n",
    "    varmax = problem.varmax\n",
    "    \n",
    "    # paramiters\n",
    "    maxit = params.maxit\n",
    "    npop = params.npop\n",
    "    pc = params.pc\n",
    "    nc = int(np.round(pc*npop/2)*2)\n",
    "    gamma = params.gamma\n",
    "    mu = params.mu\n",
    "    sigma = params.sigma\n",
    "    \n",
    "    # Empty Individual template\n",
    "    empty_individual = structure()\n",
    "    empty_individual.position = None\n",
    "    empty_individual.cost = None\n",
    "    \n",
    "    # best solution found\n",
    "    bestsol = empty_individual.deepcopy()\n",
    "    bestsol.cost = np.inf\n",
    "    \n",
    "    #initialize population\n",
    "    pop = empty_individual.repeat(npop)\n",
    "    for i in range(0,npop):\n",
    "        pop[i].position = np.random.uniform(varmin,varmax,nvar)\n",
    "        pop[i].cost = costfunc(pop[i].position)\n",
    "        if pop[i].cost<bestsol.cost:\n",
    "            bestsol = pop[i].deepcopy()\n",
    "        \n",
    "    # best cost of iteration\n",
    "    bestcost = np.empty(maxit)\n",
    "    \n",
    "    # main loop\n",
    "    for it in range(maxit):\n",
    "        \n",
    "        popc = []\n",
    "        for _ in range(nc//2):\n",
    "            # select perents\n",
    "            q = np.random.permutation(npop)\n",
    "            p1 = pop[q[0]]\n",
    "            p2 = pop[q[1]]\n",
    "            \n",
    "            # crossover\n",
    "            c1, c2 =crossover(p1, p2, gamma)\n",
    "            \n",
    "            # mutetion\n",
    "            c1 = mutate(c1, mu, sigma)\n",
    "            c2 = mutate(c2, mu, sigma)\n",
    "            \n",
    "            # Apply Bounds\n",
    "            apply_bound(c1, varmin, varmax)\n",
    "            apply_bound(c2, varmin, varmax)\n",
    "            \n",
    "            #Evaluate first offspring\n",
    "            c1.cost = costfunc(c1.position)\n",
    "            if c1.cost < bestsol.cost:\n",
    "                bestsol = c1.deepcopy()\n",
    "            \n",
    "            #Evaluate second offspring\n",
    "            c2.cost = costfunc(c2.position)\n",
    "            if c2.cost < bestsol.cost:\n",
    "                bestsol = c2.deepcopy()\n",
    "            \n",
    "            # add offspring to population\n",
    "            popc.append(c1)\n",
    "            popc.append(c2)\n",
    "            \n",
    "        # merge, sort, and select\n",
    "        pop += popc\n",
    "        pop = sorted(pop, key=lambda x: x.cost)\n",
    "        pop = pop[0:npop]\n",
    "        \n",
    "        #store best cost\n",
    "        \n",
    "        bestcost[it] = bestsol.cost\n",
    "           \n",
    "        # show iteration info\n",
    "        print(\"Iteration {}: Best Cost = {}\".format(it, bestcost[it]))\n",
    "\n",
    "    # output\n",
    "    out = structure()\n",
    "    out.pop = pop\n",
    "    out.bestsol = abs(bestsol)\n",
    "    out.bestcost = abs(bestcost)\n",
    "    return out"
   ]
  },
  {
   "cell_type": "code",
   "execution_count": 95,
   "metadata": {},
   "outputs": [],
   "source": [
    "def crossover(p1, p2, gamma = 0.1):\n",
    "    \n",
    "    c1 = p1.deepcopy()\n",
    "    c2 = p2.deepcopy()\n",
    "    alpha = np.random.uniform(-gamma, 1+gamma, *c1.position.shape)\n",
    "    c1.position = alpha*p1.position + (1-alpha)*p2.position\n",
    "    c2.position = alpha*p2.position + (1-alpha)*p1.position\n",
    "    return c1,c2"
   ]
  },
  {
   "cell_type": "code",
   "execution_count": 96,
   "metadata": {},
   "outputs": [],
   "source": [
    "def mutate(x, mu, sigma):\n",
    "    y = x.deepcopy()\n",
    "    flag = np.random.rand(*x.position.shape) <= mu\n",
    "    ind = np.argwhere(flag)\n",
    "    y.position[ind] += sigma*np.random.randn(*ind.shape)\n",
    "    return y"
   ]
  },
  {
   "cell_type": "code",
   "execution_count": 97,
   "metadata": {},
   "outputs": [],
   "source": [
    "def apply_bound(x, varmin, varmax):\n",
    "    x.position = np.maximum(x.position, varmin)\n",
    "    x.position = np.minimum(x.position, varmax)"
   ]
  }
 ],
 "metadata": {
  "interpreter": {
   "hash": "df3349e789859f0ba8ed8c2f69616fdbbccfe3544bde8b15a378092838144dba"
  },
  "kernelspec": {
   "display_name": "Python 3.8.8 64-bit ('base': conda)",
   "language": "python",
   "name": "python3"
  },
  "language_info": {
   "codemirror_mode": {
    "name": "ipython",
    "version": 3
   },
   "file_extension": ".py",
   "mimetype": "text/x-python",
   "name": "python",
   "nbconvert_exporter": "python",
   "pygments_lexer": "ipython3",
   "version": "3.8.8"
  },
  "orig_nbformat": 4
 },
 "nbformat": 4,
 "nbformat_minor": 2
}
